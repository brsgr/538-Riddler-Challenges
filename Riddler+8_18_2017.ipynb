{
 "cells": [
  {
   "cell_type": "markdown",
   "metadata": {},
   "source": [
    "# 538 Riddler Classic 19-AUG-2017\n",
    "** Puzzle found at https://fivethirtyeight.com/features/can-you-unravel-these-number-strings/\n",
    "\n",
    "To find the ratio of 2's and 3's in the series, let's assume the series converges at some value, and let's calculate the future values of the series iteratively to determine that value."
   ]
  },
  {
   "cell_type": "code",
   "execution_count": 1,
   "metadata": {
    "collapsed": true
   },
   "outputs": [],
   "source": [
    "import pandas as pd\n",
    "\n",
    "starter = 33323332333233233323332333233233323332\n",
    "numba_list = [int(i) for i in str(starter)]\n",
    "return_df = pd.DataFrame()"
   ]
  },
  {
   "cell_type": "markdown",
   "metadata": {},
   "source": [
    "** We can find iteratively find the remaning numbers in the series. The number 3000 is chosen arbitrarily, but it seems to show the convergence just fine.\n",
    "\n",
    "** Note that we only count the ratio after we have added a two. Otherwise, it would obviously oscillate everytime a new digit is added."
   ]
  },
  {
   "cell_type": "code",
   "execution_count": 6,
   "metadata": {
    "collapsed": true
   },
   "outputs": [],
   "source": [
    "for i in range(1,3000):\n",
    "    counter = len(numba_list) - 1\n",
    "    if numba_list[counter] == 2:\n",
    "        number_of_twos = numba_list.count(2)\n",
    "        number_of_following_threes = numba_list[number_of_twos - 1]\n",
    "        numba_list.extend([3] * number_of_following_threes)\n",
    "    if numba_list[counter] == 3:\n",
    "        numba_list.append(2)\n",
    "        two_count = numba_list.count(2)\n",
    "        three_count = numba_list.count(3)\n",
    "        df = pd.DataFrame([[two_count, three_count, three_count/two_count]], columns=['twos', 'threes', 'ratio'])\n",
    "        return_df = return_df.append(df)"
   ]
  },
  {
   "cell_type": "markdown",
   "metadata": {},
   "source": [
    "** A plot should make it more obvious"
   ]
  },
  {
   "cell_type": "code",
   "execution_count": 11,
   "metadata": {},
   "outputs": [
    {
     "data": {
      "text/html": [
       "<iframe id=\"igraph\" scrolling=\"no\" style=\"border:none;\" seamless=\"seamless\" src=\"https://plot.ly/~bgrad3031/8.embed\" height=\"525px\" width=\"100%\"></iframe>"
      ],
      "text/plain": [
       "<plotly.tools.PlotlyDisplay object>"
      ]
     },
     "execution_count": 11,
     "metadata": {},
     "output_type": "execute_result"
    }
   ],
   "source": [
    "import plotly.plotly as py\n",
    "from plotly.graph_objs import *\n",
    "\n",
    "data = [Scatter(x=return_df.twos,\n",
    "                y=return_df.ratio)]\n",
    "\n",
    "layout = Layout(xaxis=dict(title='Number of 2s in Series'),\n",
    "                yaxis=dict(title='Ratio of 3/2'))\n",
    "\n",
    "fig = Figure(data=data, layout=layout)\n",
    "py.iplot(fig, filename='538_answer', layout=layout)"
   ]
  },
  {
   "cell_type": "code",
   "execution_count": null,
   "metadata": {
    "collapsed": true
   },
   "outputs": [],
   "source": []
  }
 ],
 "metadata": {
  "kernelspec": {
   "display_name": "Python [conda root]",
   "language": "python",
   "name": "conda-root-py"
  },
  "language_info": {
   "codemirror_mode": {
    "name": "ipython",
    "version": 3
   },
   "file_extension": ".py",
   "mimetype": "text/x-python",
   "name": "python",
   "nbconvert_exporter": "python",
   "pygments_lexer": "ipython3",
   "version": "3.5.3"
  }
 },
 "nbformat": 4,
 "nbformat_minor": 2
}
